{
 "cells": [
  {
   "cell_type": "code",
   "execution_count": 4,
   "id": "adbfbe73",
   "metadata": {},
   "outputs": [
    {
     "ename": "SyntaxError",
     "evalue": "invalid syntax. Maybe you meant '==' or ':=' instead of '='? (589392262.py, line 5)",
     "output_type": "error",
     "traceback": [
      "\u001b[1;36m  Cell \u001b[1;32mIn[4], line 5\u001b[1;36m\u001b[0m\n\u001b[1;33m    search_url = \"https://dp.la/search?q=minnesota\"\u001b[0m\n\u001b[1;37m    ^\u001b[0m\n\u001b[1;31mSyntaxError\u001b[0m\u001b[1;31m:\u001b[0m invalid syntax. Maybe you meant '==' or ':=' instead of '='?\n"
     ]
    }
   ],
   "source": [
    "import requests\n",
    "\n",
    "# Search for object IDs with a query term\"\n",
    "search_params = {\n",
    "search_url = \"https://dp.la/search?q=minnesota\"\n",
    "    \"q\": \"Battle of Borodino\", # replace with search term from user!\n",
    "    \"hasImages\": \"true\"\n",
    "}\n",
    "\n",
    "\n",
    "search_response = requests.get(search_url, params=search_params)\n",
    "object_ids = search_response.json().get(\"objectIDs\", [])[:20]  # Limit to first 20 results\n",
    "\n",
    "\n",
    "# Fetch object details and filter by date\n",
    "object_url = \"https://collectionapi.metmuseum.org/public/collection/v1/objects/\"\n",
    "for obj_id in object_ids:\n",
    "    obj_response = requests.get(f\"{object_url}{obj_id}\")\n",
    "    if obj_response.status_code == 200:\n",
    "        obj_data = obj_response.json()\n",
    "        year = obj_data.get(\"objectBeginDate\", \"\")\n",
    "        try:\n",
    "            title = obj_data.get(\"title\")\n",
    "            image = obj_data.get(\"primaryImage\")\n",
    "            print(f\"Title: {title}\\nYear: {year}\\nImage URL: {image}\\n\")\n",
    "        except KeyError as e:\n",
    "            continue  # Skip if some data is missing\n"
   ]
  }
 ],
 "metadata": {
  "kernelspec": {
   "display_name": "Python 3",
   "language": "python",
   "name": "python3"
  },
  "language_info": {
   "codemirror_mode": {
    "name": "ipython",
    "version": 3
   },
   "file_extension": ".py",
   "mimetype": "text/x-python",
   "name": "python",
   "nbconvert_exporter": "python",
   "pygments_lexer": "ipython3",
   "version": "3.13.1"
  }
 },
 "nbformat": 4,
 "nbformat_minor": 5
}
