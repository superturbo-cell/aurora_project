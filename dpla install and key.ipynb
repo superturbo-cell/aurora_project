{
 "cells": [
  {
   "cell_type": "code",
   "execution_count": 7,
   "id": "92bba8e0",
   "metadata": {},
   "outputs": [
    {
     "name": "stdout",
     "output_type": "stream",
     "text": [
      "Requirement already satisfied: dpla in c:\\users\\dd6728bd\\appdata\\local\\programs\\python\\python313\\lib\\site-packages (0.5)\n",
      "Requirement already satisfied: requests in c:\\users\\dd6728bd\\appdata\\local\\programs\\python\\python313\\lib\\site-packages (from dpla) (2.32.3)\n",
      "Requirement already satisfied: charset-normalizer<4,>=2 in c:\\users\\dd6728bd\\appdata\\local\\programs\\python\\python313\\lib\\site-packages (from requests->dpla) (3.4.1)\n",
      "Requirement already satisfied: idna<4,>=2.5 in c:\\users\\dd6728bd\\appdata\\local\\programs\\python\\python313\\lib\\site-packages (from requests->dpla) (3.10)\n",
      "Requirement already satisfied: urllib3<3,>=1.21.1 in c:\\users\\dd6728bd\\appdata\\local\\programs\\python\\python313\\lib\\site-packages (from requests->dpla) (2.3.0)\n",
      "Requirement already satisfied: certifi>=2017.4.17 in c:\\users\\dd6728bd\\appdata\\local\\programs\\python\\python313\\lib\\site-packages (from requests->dpla) (2025.1.31)\n",
      "Note: you may need to restart the kernel to use updated packages.\n"
     ]
    },
    {
     "name": "stderr",
     "output_type": "stream",
     "text": [
      "\n",
      "[notice] A new release of pip is available: 24.3.1 -> 25.1.1\n",
      "[notice] To update, run: python.exe -m pip install --upgrade pip\n"
     ]
    }
   ],
   "source": [
    "%pip install dpla\n",
    "# pip install dpla.py\n"
   ]
  },
  {
   "cell_type": "code",
   "execution_count": 2,
   "id": "5731545d",
   "metadata": {},
   "outputs": [],
   "source": [
    "from dpla.api import DPLA\n"
   ]
  },
  {
   "cell_type": "code",
   "execution_count": 3,
   "id": "10e259d9",
   "metadata": {},
   "outputs": [],
   "source": [
    "dpla = DPLA('73d36b254495172e23eb84f3343ff7cf')"
   ]
  },
  {
   "cell_type": "code",
   "execution_count": 21,
   "id": "b46e6d23",
   "metadata": {},
   "outputs": [
    {
     "name": "stdout",
     "output_type": "stream",
     "text": [
      "https://api.dp.la/v2/items?q=parks&api_key=73d36b254495172e23eb84f3343ff7cf\n"
     ]
    }
   ],
   "source": [
    "result = dpla.search('parks')"
   ]
  },
  {
   "cell_type": "code",
   "execution_count": 24,
   "id": "04e50720",
   "metadata": {},
   "outputs": [
    {
     "name": "stdout",
     "output_type": "stream",
     "text": [
      "https://api.dp.la/v2/items?q=Minnesota&api_key=73d36b254495172e23eb84f3343ff7cf\n"
     ]
    }
   ],
   "source": [
    "result = dpla.search('Minnesota')"
   ]
  },
  {
   "cell_type": "code",
   "execution_count": 26,
   "id": "855d914d",
   "metadata": {},
   "outputs": [
    {
     "name": "stdout",
     "output_type": "stream",
     "text": [
      "https://api.dp.la/v2/items?q=Minnesota+AND+parks&api_key=73d36b254495172e23eb84f3343ff7cf\n"
     ]
    }
   ],
   "source": [
    "result = dpla.search('Minnesota' + ' AND ' + 'parks')"
   ]
  },
  {
   "cell_type": "code",
   "execution_count": 27,
   "id": "e3524a52",
   "metadata": {},
   "outputs": [
    {
     "data": {
      "text/plain": [
       "6220"
      ]
     },
     "execution_count": 27,
     "metadata": {},
     "output_type": "execute_result"
    }
   ],
   "source": [
    "result.count # \n"
   ]
  },
  {
   "cell_type": "code",
   "execution_count": null,
   "id": "80898689",
   "metadata": {},
   "outputs": [
    {
     "name": "stdout",
     "output_type": "stream",
     "text": [
      "https://api.dp.la/v2/items?q=parks&sort_by=sourceResource.date.begin&page_size=10&api_key=73d36b254495172e23eb84f3343ff7cf\n"
     ]
    }
   ],
   "source": [
    "#fields = {\"sourceResource.title\" : \"parks\", \"sourceResource.format\": \"image\",\"sourceResource.spatial.state\" : \"Minnesota\"}\n",
    "#result = dpla.search(\"parks\", sort=\"sourceResource.date.begin\", order=\"desc\", page_size=10)"
   ]
  },
  {
   "cell_type": "code",
   "execution_count": 29,
   "id": "6c4f7ecd",
   "metadata": {},
   "outputs": [],
   "source": [
    "# AI code with: assume 'results' is a list of DPLA item dicts from your API query\n",
    "\n",
    "html = \"\"\"\n",
    "<!DOCTYPE html>\n",
    "<html>\n",
    "<head>\n",
    "    <title>DPLA Image Gallery</title>\n",
    "    <style>\n",
    "        body { font-family: Arial, sans-serif; padding: 20px; }\n",
    "        .gallery { display: flex; flex-wrap: wrap; gap: 16px; }\n",
    "        .thumb { width: 180px; }\n",
    "        .thumb img { width: 100%; height: auto; border: 1px solid #ccc; }\n",
    "        .caption { font-size: 0.9em; margin-top: 4px; }\n",
    "    </style>\n",
    "</head>\n",
    "<body>\n",
    "    <h1>DPLA Image Gallery</h1>\n",
    "    <div class=\"gallery\">\n",
    "\"\"\"\n",
    "\n",
    "for item in result.items:\n",
    "    if not item.get('object') and not item.get('thumbnailUrl'):\n",
    "        continue    \n",
    "    thumb_url = item.get('object') or item.get('thumbnailUrl')\n",
    "    title = item.get('sourceResource', {}).get('title', 'Untitled')\n",
    "    link = item.get('isShownAt', '#')\n",
    "    if thumb_url:\n",
    "        html += f\"\"\"\n",
    "        <div class=\"thumb\">\n",
    "            <a href=\"{link}\" target=\"_blank\">\n",
    "                <img src=\"{thumb_url}\" alt=\"{title}\">\n",
    "            </a>\n",
    "            <div class=\"caption\">{title}</div>\n",
    "        </div>\n",
    "        \"\"\"\n",
    "\n",
    "html += \"\"\"\n",
    "    </div>\n",
    "</body>\n",
    "</html>\n",
    "\"\"\"\n",
    "\n",
    "with open(\"gallery.html\", \"w\", encoding=\"utf-8\") as f:\n",
    "    f.write(html)\n"
   ]
  }
 ],
 "metadata": {
  "kernelspec": {
   "display_name": "Python 3",
   "language": "python",
   "name": "python3"
  },
  "language_info": {
   "codemirror_mode": {
    "name": "ipython",
    "version": 3
   },
   "file_extension": ".py",
   "mimetype": "text/x-python",
   "name": "python",
   "nbconvert_exporter": "python",
   "pygments_lexer": "ipython3",
   "version": "3.13.1"
  }
 },
 "nbformat": 4,
 "nbformat_minor": 5
}
