{
 "cells": [
  {
   "cell_type": "code",
   "execution_count": 1,
   "id": "4a7cb7da",
   "metadata": {},
   "outputs": [
    {
     "name": "stdout",
     "output_type": "stream",
     "text": [
      "Collecting flask\n",
      "  Downloading flask-3.1.1-py3-none-any.whl.metadata (3.0 kB)\n",
      "Collecting blinker>=1.9.0 (from flask)\n",
      "  Downloading blinker-1.9.0-py3-none-any.whl.metadata (1.6 kB)\n",
      "Collecting click>=8.1.3 (from flask)\n",
      "  Downloading click-8.2.1-py3-none-any.whl.metadata (2.5 kB)\n",
      "Collecting itsdangerous>=2.2.0 (from flask)\n",
      "  Downloading itsdangerous-2.2.0-py3-none-any.whl.metadata (1.9 kB)\n",
      "Collecting jinja2>=3.1.2 (from flask)\n",
      "  Downloading jinja2-3.1.6-py3-none-any.whl.metadata (2.9 kB)\n",
      "Collecting markupsafe>=2.1.1 (from flask)\n",
      "  Downloading MarkupSafe-3.0.2-cp313-cp313-win_amd64.whl.metadata (4.1 kB)\n",
      "Collecting werkzeug>=3.1.0 (from flask)\n",
      "  Downloading werkzeug-3.1.3-py3-none-any.whl.metadata (3.7 kB)\n",
      "Requirement already satisfied: colorama in c:\\users\\dd6728bd\\appdata\\roaming\\python\\python313\\site-packages (from click>=8.1.3->flask) (0.4.6)\n",
      "Downloading flask-3.1.1-py3-none-any.whl (103 kB)\n",
      "Downloading blinker-1.9.0-py3-none-any.whl (8.5 kB)\n",
      "Downloading click-8.2.1-py3-none-any.whl (102 kB)\n",
      "Downloading itsdangerous-2.2.0-py3-none-any.whl (16 kB)\n",
      "Downloading jinja2-3.1.6-py3-none-any.whl (134 kB)\n",
      "Downloading MarkupSafe-3.0.2-cp313-cp313-win_amd64.whl (15 kB)\n",
      "Downloading werkzeug-3.1.3-py3-none-any.whl (224 kB)\n",
      "Installing collected packages: markupsafe, itsdangerous, click, blinker, werkzeug, jinja2, flask\n",
      "Successfully installed blinker-1.9.0 click-8.2.1 flask-3.1.1 itsdangerous-2.2.0 jinja2-3.1.6 markupsafe-3.0.2 werkzeug-3.1.3\n",
      "Note: you may need to restart the kernel to use updated packages.\n"
     ]
    },
    {
     "name": "stderr",
     "output_type": "stream",
     "text": [
      "  WARNING: The script flask.exe is installed in 'c:\\Users\\dd6728bd\\AppData\\Local\\Programs\\Python\\Python313\\Scripts' which is not on PATH.\n",
      "  Consider adding this directory to PATH or, if you prefer to suppress this warning, use --no-warn-script-location.\n",
      "\n",
      "[notice] A new release of pip is available: 24.3.1 -> 25.1.1\n",
      "[notice] To update, run: python.exe -m pip install --upgrade pip\n"
     ]
    }
   ],
   "source": [
    "\n",
    "pip install flask\n"
   ]
  },
  {
   "cell_type": "code",
   "execution_count": 2,
   "id": "b81b2521",
   "metadata": {},
   "outputs": [
    {
     "name": "stdout",
     "output_type": "stream",
     "text": [
      " * Serving Flask app '__main__'\n",
      " * Debug mode: on\n"
     ]
    },
    {
     "name": "stderr",
     "output_type": "stream",
     "text": [
      "WARNING: This is a development server. Do not use it in a production deployment. Use a production WSGI server instead.\n",
      " * Running on http://127.0.0.1:5000\n",
      "Press CTRL+C to quit\n",
      " * Restarting with stat\n"
     ]
    },
    {
     "ename": "SystemExit",
     "evalue": "1",
     "output_type": "error",
     "traceback": [
      "An exception has occurred, use %tb to see the full traceback.\n",
      "\u001b[1;31mSystemExit\u001b[0m\u001b[1;31m:\u001b[0m 1\n"
     ]
    },
    {
     "name": "stderr",
     "output_type": "stream",
     "text": [
      "C:\\Users\\dd6728bd\\AppData\\Roaming\\Python\\Python313\\site-packages\\IPython\\core\\interactiveshell.py:3585: UserWarning: To exit: use 'exit', 'quit', or Ctrl-D.\n",
      "  warn(\"To exit: use 'exit', 'quit', or Ctrl-D.\", stacklevel=1)\n"
     ]
    }
   ],
   "source": [
    "from flask import Flask, render_template_string, send_from_directory\n",
    "import os\n",
    "\n",
    "app = Flask(__name__)\n",
    "\n",
    "IMAGE_FOLDER = 'static/images'\n",
    "os.makedirs(IMAGE_FOLDER, exist_ok=True)\n",
    "\n",
    "HTML_TEMPLATE = \"\"\"\n",
    "<!DOCTYPE html>\n",
    "<html>\n",
    "<head>\n",
    "    <title>Image Slider</title>\n",
    "    <style>\n",
    "        #slider {\n",
    "            width: 600px;\n",
    "            margin: auto;\n",
    "            text-align: center;\n",
    "        }\n",
    "        #slider img {\n",
    "            width: 100%;\n",
    "            height: auto;\n",
    "        }\n",
    "        .nav-button {\n",
    "            cursor: pointer;\n",
    "            padding: 10px;\n",
    "            font-size: 18px;\n",
    "        }\n",
    "    </style>\n",
    "</head>\n",
    "<body>\n",
    "    <div id=\"slider\">\n",
    "        <button class=\"nav-button\" onclick=\"prevImage()\">&#10094;</button>\n",
    "        <img id=\"slider-image\" src=\"/static/images/{{ images[0] }}\" alt=\"Image Slider\">\n",
    "        <button class=\"nav-button\" onclick=\"nextImage()\">&#10095;</button>\n",
    "    </div>\n",
    "\n",
    "    <script>\n",
    "        const images = {{ images | tojson }};\n",
    "        let currentIndex = 0;\n",
    "\n",
    "        function showImage(index) {\n",
    "            const img = document.getElementById('slider-image');\n",
    "            img.src = '/static/images/' + images[index];\n",
    "        }\n",
    "\n",
    "        function prevImage() {\n",
    "            currentIndex = (currentIndex - 1 + images.length) % images.length;\n",
    "            showImage(currentIndex);\n",
    "        }\n",
    "\n",
    "        function nextImage() {\n",
    "            currentIndex = (currentIndex + 1) % images.length;\n",
    "            showImage(currentIndex);\n",
    "        }\n",
    "    </script>\n",
    "</body>\n",
    "</html>\n",
    "\"\"\"\n",
    "\n",
    "@app.route('/')\n",
    "def gallery():\n",
    "    images = [f for f in os.listdir(IMAGE_FOLDER) if f.lower().endswith(('.png', '.jpg', '.jpeg', '.gif'))]\n",
    "    return render_template_string(HTML_TEMPLATE, images=images)\n",
    "\n",
    "@app.route('/static/images/<path:filename>')\n",
    "def serve_image(filename):\n",
    "    return send_from_directory(IMAGE_FOLDER, filename)\n",
    "\n",
    "if __name__ == '__main__':\n",
    "    app.run(debug=True)\n"
   ]
  }
 ],
 "metadata": {
  "kernelspec": {
   "display_name": "Python 3",
   "language": "python",
   "name": "python3"
  },
  "language_info": {
   "codemirror_mode": {
    "name": "ipython",
    "version": 3
   },
   "file_extension": ".py",
   "mimetype": "text/x-python",
   "name": "python",
   "nbconvert_exporter": "python",
   "pygments_lexer": "ipython3",
   "version": "3.13.1"
  }
 },
 "nbformat": 4,
 "nbformat_minor": 5
}
